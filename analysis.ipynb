{
 "cells": [
  {
   "cell_type": "code",
   "execution_count": 1,
   "id": "51efde74-d57e-4f29-98cd-9bc8db03995c",
   "metadata": {},
   "outputs": [],
   "source": [
    "import pandas as pd\n",
    "\n",
    "df = pd.read_csv(\n",
    "    'data.txt', \n",
    "    sep='\\t',\n",
    "    header=1,\n",
    "    names=['label', 'comment', 'author', 'subreddit', 'score', 'ups', 'downs', 'date', 'created_utc', 'parent_comment']\n",
    ")\n",
    "df['label'] = df['label'].apply(lambda val: 'Sarcasm' if val == 1 else 'NOT Sarcasm')\n",
    "df['created_utc'] = pd.to_datetime(df['created_utc'])"
   ]
  },
  {
   "cell_type": "code",
   "execution_count": 17,
   "id": "e15baaa8-d029-4d2a-be82-39932058d4d4",
   "metadata": {},
   "outputs": [
    {
     "data": {
      "text/html": [
       "<div>\n",
       "<style scoped>\n",
       "    .dataframe tbody tr th:only-of-type {\n",
       "        vertical-align: middle;\n",
       "    }\n",
       "\n",
       "    .dataframe tbody tr th {\n",
       "        vertical-align: top;\n",
       "    }\n",
       "\n",
       "    .dataframe thead th {\n",
       "        text-align: right;\n",
       "    }\n",
       "</style>\n",
       "<table border=\"1\" class=\"dataframe\">\n",
       "  <thead>\n",
       "    <tr style=\"text-align: right;\">\n",
       "      <th></th>\n",
       "      <th>score</th>\n",
       "      <th>ups</th>\n",
       "      <th>downs</th>\n",
       "    </tr>\n",
       "  </thead>\n",
       "  <tbody>\n",
       "    <tr>\n",
       "      <th>count</th>\n",
       "      <td>1010772.000</td>\n",
       "      <td>1010772.000</td>\n",
       "      <td>1010772.000</td>\n",
       "    </tr>\n",
       "    <tr>\n",
       "      <th>mean</th>\n",
       "      <td>6.886</td>\n",
       "      <td>5.499</td>\n",
       "      <td>-0.146</td>\n",
       "    </tr>\n",
       "    <tr>\n",
       "      <th>std</th>\n",
       "      <td>48.344</td>\n",
       "      <td>41.274</td>\n",
       "      <td>0.353</td>\n",
       "    </tr>\n",
       "    <tr>\n",
       "      <th>min</th>\n",
       "      <td>-507.000</td>\n",
       "      <td>-507.000</td>\n",
       "      <td>-1.000</td>\n",
       "    </tr>\n",
       "    <tr>\n",
       "      <th>25%</th>\n",
       "      <td>1.000</td>\n",
       "      <td>0.000</td>\n",
       "      <td>0.000</td>\n",
       "    </tr>\n",
       "    <tr>\n",
       "      <th>50%</th>\n",
       "      <td>2.000</td>\n",
       "      <td>1.000</td>\n",
       "      <td>0.000</td>\n",
       "    </tr>\n",
       "    <tr>\n",
       "      <th>75%</th>\n",
       "      <td>4.000</td>\n",
       "      <td>3.000</td>\n",
       "      <td>0.000</td>\n",
       "    </tr>\n",
       "    <tr>\n",
       "      <th>max</th>\n",
       "      <td>9070.000</td>\n",
       "      <td>5163.000</td>\n",
       "      <td>0.000</td>\n",
       "    </tr>\n",
       "  </tbody>\n",
       "</table>\n",
       "</div>"
      ],
      "text/plain": [
       "            score         ups       downs\n",
       "count 1010772.000 1010772.000 1010772.000\n",
       "mean        6.886       5.499      -0.146\n",
       "std        48.344      41.274       0.353\n",
       "min      -507.000    -507.000      -1.000\n",
       "25%         1.000       0.000       0.000\n",
       "50%         2.000       1.000       0.000\n",
       "75%         4.000       3.000       0.000\n",
       "max      9070.000    5163.000       0.000"
      ]
     },
     "execution_count": 17,
     "metadata": {},
     "output_type": "execute_result"
    }
   ],
   "source": [
    "pd.set_option('display.float_format', lambda x: '%.3f' % x)\n",
    "df.describe()"
   ]
  },
  {
   "cell_type": "code",
   "execution_count": 18,
   "id": "a9e94c5e-272a-4855-91aa-fd29dc462d70",
   "metadata": {},
   "outputs": [
    {
     "data": {
      "text/html": [
       "<div>\n",
       "<style scoped>\n",
       "    .dataframe tbody tr th:only-of-type {\n",
       "        vertical-align: middle;\n",
       "    }\n",
       "\n",
       "    .dataframe tbody tr th {\n",
       "        vertical-align: top;\n",
       "    }\n",
       "\n",
       "    .dataframe thead th {\n",
       "        text-align: right;\n",
       "    }\n",
       "</style>\n",
       "<table border=\"1\" class=\"dataframe\">\n",
       "  <thead>\n",
       "    <tr style=\"text-align: right;\">\n",
       "      <th></th>\n",
       "      <th>Not NAN</th>\n",
       "      <th>total</th>\n",
       "    </tr>\n",
       "  </thead>\n",
       "  <tbody>\n",
       "    <tr>\n",
       "      <th>label</th>\n",
       "      <td>1010772</td>\n",
       "      <td>1010772</td>\n",
       "    </tr>\n",
       "    <tr>\n",
       "      <th>comment</th>\n",
       "      <td>1010772</td>\n",
       "      <td>1010772</td>\n",
       "    </tr>\n",
       "    <tr>\n",
       "      <th>author</th>\n",
       "      <td>1010772</td>\n",
       "      <td>1010772</td>\n",
       "    </tr>\n",
       "    <tr>\n",
       "      <th>subreddit</th>\n",
       "      <td>1010772</td>\n",
       "      <td>1010772</td>\n",
       "    </tr>\n",
       "    <tr>\n",
       "      <th>score</th>\n",
       "      <td>1010772</td>\n",
       "      <td>1010772</td>\n",
       "    </tr>\n",
       "    <tr>\n",
       "      <th>ups</th>\n",
       "      <td>1010772</td>\n",
       "      <td>1010772</td>\n",
       "    </tr>\n",
       "    <tr>\n",
       "      <th>downs</th>\n",
       "      <td>1010772</td>\n",
       "      <td>1010772</td>\n",
       "    </tr>\n",
       "    <tr>\n",
       "      <th>date</th>\n",
       "      <td>1010772</td>\n",
       "      <td>1010772</td>\n",
       "    </tr>\n",
       "    <tr>\n",
       "      <th>created_utc</th>\n",
       "      <td>1010772</td>\n",
       "      <td>1010772</td>\n",
       "    </tr>\n",
       "    <tr>\n",
       "      <th>parent_comment</th>\n",
       "      <td>1010772</td>\n",
       "      <td>1010772</td>\n",
       "    </tr>\n",
       "  </tbody>\n",
       "</table>\n",
       "</div>"
      ],
      "text/plain": [
       "                Not NAN    total\n",
       "label           1010772  1010772\n",
       "comment         1010772  1010772\n",
       "author          1010772  1010772\n",
       "subreddit       1010772  1010772\n",
       "score           1010772  1010772\n",
       "ups             1010772  1010772\n",
       "downs           1010772  1010772\n",
       "date            1010772  1010772\n",
       "created_utc     1010772  1010772\n",
       "parent_comment  1010772  1010772"
      ]
     },
     "execution_count": 18,
     "metadata": {},
     "output_type": "execute_result"
    }
   ],
   "source": [
    "def get_columns_info(df: pd.DataFrame) -> pd.DataFrame:\n",
    "    columns_info = pd.DataFrame(df.count(), columns=['Not NAN'])\n",
    "    columns_info['total'] = df.shape[0]\n",
    "    return columns_info\n",
    "\n",
    "get_columns_info(df)"
   ]
  },
  {
   "cell_type": "code",
   "execution_count": 56,
   "id": "180142ff-21b5-4ee3-9b09-f5c47bf78eef",
   "metadata": {},
   "outputs": [
    {
     "data": {
      "text/plain": [
       "Sarcasm        489165\n",
       "NOT Sarcasm    466115\n",
       "Name: label, dtype: int64"
      ]
     },
     "execution_count": 56,
     "metadata": {},
     "output_type": "execute_result"
    }
   ],
   "source": [
    "df['label'].value_counts()"
   ]
  },
  {
   "cell_type": "markdown",
   "id": "9c06c36e-c99e-42f9-b0a2-d4598538ac32",
   "metadata": {},
   "source": [
    "# Let's clear gaps in data"
   ]
  },
  {
   "cell_type": "code",
   "execution_count": 19,
   "id": "290a7e8c-867c-40fc-b48b-dbe7318858d9",
   "metadata": {},
   "outputs": [
    {
     "data": {
      "text/html": [
       "<div>\n",
       "<style scoped>\n",
       "    .dataframe tbody tr th:only-of-type {\n",
       "        vertical-align: middle;\n",
       "    }\n",
       "\n",
       "    .dataframe tbody tr th {\n",
       "        vertical-align: top;\n",
       "    }\n",
       "\n",
       "    .dataframe thead th {\n",
       "        text-align: right;\n",
       "    }\n",
       "</style>\n",
       "<table border=\"1\" class=\"dataframe\">\n",
       "  <thead>\n",
       "    <tr style=\"text-align: right;\">\n",
       "      <th></th>\n",
       "      <th>Not NAN</th>\n",
       "      <th>total</th>\n",
       "    </tr>\n",
       "  </thead>\n",
       "  <tbody>\n",
       "    <tr>\n",
       "      <th>label</th>\n",
       "      <td>1010772</td>\n",
       "      <td>1010772</td>\n",
       "    </tr>\n",
       "    <tr>\n",
       "      <th>comment</th>\n",
       "      <td>1010772</td>\n",
       "      <td>1010772</td>\n",
       "    </tr>\n",
       "    <tr>\n",
       "      <th>author</th>\n",
       "      <td>1010772</td>\n",
       "      <td>1010772</td>\n",
       "    </tr>\n",
       "    <tr>\n",
       "      <th>subreddit</th>\n",
       "      <td>1010772</td>\n",
       "      <td>1010772</td>\n",
       "    </tr>\n",
       "    <tr>\n",
       "      <th>score</th>\n",
       "      <td>1010772</td>\n",
       "      <td>1010772</td>\n",
       "    </tr>\n",
       "    <tr>\n",
       "      <th>ups</th>\n",
       "      <td>1010772</td>\n",
       "      <td>1010772</td>\n",
       "    </tr>\n",
       "    <tr>\n",
       "      <th>downs</th>\n",
       "      <td>1010772</td>\n",
       "      <td>1010772</td>\n",
       "    </tr>\n",
       "    <tr>\n",
       "      <th>date</th>\n",
       "      <td>1010772</td>\n",
       "      <td>1010772</td>\n",
       "    </tr>\n",
       "    <tr>\n",
       "      <th>created_utc</th>\n",
       "      <td>1010772</td>\n",
       "      <td>1010772</td>\n",
       "    </tr>\n",
       "    <tr>\n",
       "      <th>parent_comment</th>\n",
       "      <td>1010772</td>\n",
       "      <td>1010772</td>\n",
       "    </tr>\n",
       "  </tbody>\n",
       "</table>\n",
       "</div>"
      ],
      "text/plain": [
       "                Not NAN    total\n",
       "label           1010772  1010772\n",
       "comment         1010772  1010772\n",
       "author          1010772  1010772\n",
       "subreddit       1010772  1010772\n",
       "score           1010772  1010772\n",
       "ups             1010772  1010772\n",
       "downs           1010772  1010772\n",
       "date            1010772  1010772\n",
       "created_utc     1010772  1010772\n",
       "parent_comment  1010772  1010772"
      ]
     },
     "execution_count": 19,
     "metadata": {},
     "output_type": "execute_result"
    }
   ],
   "source": [
    "df = df.dropna()\n",
    "get_columns_info(df)"
   ]
  },
  {
   "cell_type": "code",
   "execution_count": 25,
   "id": "922b44cb-ef65-4b22-9099-4c6153af7b96",
   "metadata": {},
   "outputs": [
    {
     "data": {
      "text/plain": [
       "count   1010772.000\n",
       "mean         56.692\n",
       "std          61.821\n",
       "min           1.000\n",
       "25%          27.000\n",
       "50%          46.000\n",
       "75%          74.000\n",
       "max       10000.000\n",
       "Name: comment, dtype: float64"
      ]
     },
     "execution_count": 25,
     "metadata": {},
     "output_type": "execute_result"
    }
   ],
   "source": [
    "df['comment'].apply(len).describe()"
   ]
  },
  {
   "cell_type": "markdown",
   "id": "d9dd8969-3d4c-4339-a52b-af0f0c3f0a5d",
   "metadata": {},
   "source": [
    "## We need to clean up comments that are too short or too long"
   ]
  },
  {
   "cell_type": "code",
   "execution_count": 33,
   "id": "52284161-ed57-41a8-a251-cd82a3d0705a",
   "metadata": {},
   "outputs": [
    {
     "name": "stdout",
     "output_type": "stream",
     "text": [
      "Remainder: 955280\n"
     ]
    }
   ],
   "source": [
    "lens = df['comment'].apply(len)\n",
    "df = df[(lens >= lens.quantile(0.03)) & (lens <= lens.quantile(0.97))]\n",
    "print(f'Remainder: {df.shape[0]}')"
   ]
  },
  {
   "cell_type": "code",
   "execution_count": 57,
   "id": "f6bfd63f-1488-4ba0-a137-e6141183b2b0",
   "metadata": {},
   "outputs": [
    {
     "data": {
      "image/png": "[encoded data removed]",
      "text/plain": [
       "<Figure size 1600x900 with 1 Axes>"
      ]
     },
     "metadata": {},
     "output_type": "display_data"
    },
    {
     "name": "stdout",
     "output_type": "stream",
     "text": [
      "count   489165.000\n",
      "mean        53.824\n",
      "std         31.173\n",
      "min          7.000\n",
      "25%         30.000\n",
      "50%         48.000\n",
      "75%         72.000\n",
      "max        157.000\n",
      "Name: comment, dtype: float64\n"
     ]
    }
   ],
   "source": [
    "import numpy as np\n",
    "\n",
    "sarcastic = df[df['label'] == 'Sarcasm']['comment'].apply(len)\n",
    "not_sarcastic = df[df['label'] == 'NOT Sarcasm']['comment'].apply(len)\n",
    "\n",
    "plt.figure(figsize=(16, 9))\n",
    "plt.hist(sarcastic, bins=50, alpha=0.5, color='blue', label='Sarcasm')\n",
    "plt.hist(not_sarcastic, bins=50, alpha=0.5, color='red', label='Not Sarcasm')\n",
    "plt.legend()\n",
    "plt.ylabel('Count')\n",
    "plt.xlabel('Comment length')\n",
    "plt.show()\n",
    "\n",
    "pd.DataFrame.from_dict(\n",
    "    'Sarcasm': sarcastic.describe(),\n",
    "    'NOT Sarcasm': not"
   ]
  },
  {
   "cell_type": "code",
   "execution_count": null,
   "id": "72658f84-f51b-4d01-ae1d-7852904f767b",
   "metadata": {},
   "outputs": [],
   "source": []
  }
 ],
 "metadata": {
  "kernelspec": {
   "display_name": "Python 3 (ipykernel)",
   "language": "python",
   "name": "python3"
  },
  "language_info": {
   "codemirror_mode": {
    "name": "ipython",
    "version": 3
   },
   "file_extension": ".py",
   "mimetype": "text/x-python",
   "name": "python",
   "nbconvert_exporter": "python",
   "pygments_lexer": "ipython3",
   "version": "3.10.12"
  }
 },
 "nbformat": 4,
 "nbformat_minor": 5
}
